{
 "cells": [
  {
   "cell_type": "markdown",
   "metadata": {},
   "source": [
    "### Jig Grinding models\n"
   ]
  },
  {
   "cell_type": "code",
   "execution_count": 15,
   "metadata": {},
   "outputs": [
    {
     "name": "stdout",
     "output_type": "stream",
     "text": [
      "0.00013889853529047702\n",
      "0.09424777960769379\n"
     ]
    }
   ],
   "source": [
    "import math\n",
    "\n",
    "\n",
    "tooltip_diameter = 2 #mm\n",
    "tooltip_length = 4 #mm\n",
    "tooltip_radius = tooltip_diameter/2\n",
    "\n",
    "feedrate_horizontal = 0.005 #mm/s\n",
    "\n",
    "# OSCILLATE Axis, Peak to Peak displacement, Freq Hz, Number of full sinusoidal cycles\n",
    "\n",
    "oscillate_displacement = 0.2 #mm\n",
    "oscillate_frequency = 0.15 #Hz\n",
    "\n",
    "# Pure chop grinding, assuming vertical motion\n",
    "oscillate_period = 1/oscillate_frequency\n",
    "chop_period = oscillate_period/2\n",
    "\n",
    "chop_cusp_width = chop_period*feedrate_horizontal\n",
    "chop_cusp_depth = tooltip_radius - math.sqrt((tooltip_radius**2)-(chop_cusp_width**2))\n",
    "print(chop_cusp_depth)\n",
    "\n",
    "# Sinusoidal grinding effective feedrate\n",
    "\n",
    "feedrate_effective_maximum = oscillate_displacement*oscillate_frequency*math.pi\n",
    "\n",
    "print(feedrate_effective_maximum)"
   ]
  }
 ],
 "metadata": {
  "kernelspec": {
   "display_name": "Python 3",
   "language": "python",
   "name": "python3"
  },
  "language_info": {
   "codemirror_mode": {
    "name": "ipython",
    "version": 3
   },
   "file_extension": ".py",
   "mimetype": "text/x-python",
   "name": "python",
   "nbconvert_exporter": "python",
   "pygments_lexer": "ipython3",
   "version": "3.12.6"
  }
 },
 "nbformat": 4,
 "nbformat_minor": 2
}
