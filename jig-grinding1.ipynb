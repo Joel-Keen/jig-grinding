{
 "cells": [
  {
   "cell_type": "markdown",
   "metadata": {},
   "source": [
    "### Jig Grinding models\n"
   ]
  },
  {
   "cell_type": "code",
   "execution_count": 34,
   "metadata": {},
   "outputs": [
    {
     "data": {
      "text/plain": [
       "1.2500078126032044e-05"
      ]
     },
     "execution_count": 34,
     "metadata": {},
     "output_type": "execute_result"
    }
   ],
   "source": [
    "import math\n",
    "\n",
    "\n",
    "tooltip_diameter = 2 #mm\n",
    "tooltip_length = 4 #mm\n",
    "tooltip_radius = tooltip_diameter/2\n",
    "\n",
    "feedrate_horizontal = 0.05 #mm/s\n",
    "\n",
    "# OSCILLATE Axis, Peak to Peak displacement, Freq Hz, Number of full sinusoidal cycles\n",
    "\n",
    "oscillate_displacement = 0.5 #mm\n",
    "oscillate_frequency = 5 #Hz\n",
    "\n",
    "# Pure chop grinding, assuming vertical motion\n",
    "oscillate_period = 1/oscillate_frequency\n",
    "chop_period = oscillate_period/2\n",
    "chop_period\n",
    "\n",
    "chop_cusp_width = chop_period*feedrate_horizontal\n",
    "chop_cusp_depth = tooltip_radius - math.sqrt((tooltip_radius**2)-(chop_cusp_width**2))\n",
    "chop_cusp_depth"
   ]
  },
  {
   "cell_type": "code",
   "execution_count": 35,
   "metadata": {},
   "outputs": [
    {
     "data": {
      "text/plain": [
       "7.853981633974483"
      ]
     },
     "execution_count": 35,
     "metadata": {},
     "output_type": "execute_result"
    }
   ],
   "source": [
    "# Sinusoidal grinding effective feedrate\n",
    "\n",
    "feedrate_effective_maximum = oscillate_displacement*oscillate_frequency*math.pi\n",
    "\n",
    "feedrate_effective_maximum"
   ]
  }
 ],
 "metadata": {
  "kernelspec": {
   "display_name": "Python 3",
   "language": "python",
   "name": "python3"
  },
  "language_info": {
   "codemirror_mode": {
    "name": "ipython",
    "version": 3
   },
   "file_extension": ".py",
   "mimetype": "text/x-python",
   "name": "python",
   "nbconvert_exporter": "python",
   "pygments_lexer": "ipython3",
   "version": "3.12.6"
  }
 },
 "nbformat": 4,
 "nbformat_minor": 2
}
